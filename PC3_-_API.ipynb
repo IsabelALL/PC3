{
 "cells": [
  {
   "cell_type": "code",
   "execution_count": null,
   "id": "57bdc2b6",
   "metadata": {},
   "outputs": [],
   "source": [
    "#instalando\n",
    "!pip install wptools\n",
    "!pip install wikipedia\n",
    "!pip install wordcloud"
   ]
  },
  {
   "cell_type": "code",
   "execution_count": null,
   "id": "fdaf084b",
   "metadata": {},
   "outputs": [],
   "source": [
    "import json\n",
    "import wptools\n",
    "import wikipedia\n",
    "import pandas as pd\n",
    "\n",
    "print('wptools version : {}'.format(wptools.__version__))"
   ]
  },
  {
   "cell_type": "code",
   "execution_count": 3,
   "id": "c9c0d279",
   "metadata": {},
   "outputs": [
    {
     "data": {
      "text/plain": [
       "('fortune_500_companies.csv', <http.client.HTTPMessage at 0x282a4146ca0>)"
      ]
     },
     "execution_count": 3,
     "metadata": {},
     "output_type": "execute_result"
    }
   ],
   "source": [
    "import urllib.request\n",
    "url = 'https://raw.githubusercontent.com/MonashDataFluency/python-web-scraping/master/data/fortune_500_companies.csv'\n",
    "urllib.request.urlretrieve(url, 'fortune_500_companies.csv')"
   ]
  },
  {
   "cell_type": "code",
   "execution_count": 4,
   "id": "20bdf17b",
   "metadata": {},
   "outputs": [],
   "source": [
    "fname = 'fortune_500_companies.csv'\n",
    "df = pd.read_csv(fname)             \n",
    "df.head()\n",
    "\n",
    "no_of_companies = 20                         \n",
    "df_sub = df.iloc[:no_of_companies, :].copy() \n",
    "companies = df_sub['company_name'].tolist()  "
   ]
  },
  {
   "cell_type": "code",
   "execution_count": null,
   "id": "2c87f931",
   "metadata": {},
   "outputs": [],
   "source": [
    "for i, j in enumerate(companies):   \n",
    "    print('{}. {}'.format(i+1, j))"
   ]
  },
  {
   "cell_type": "markdown",
   "id": "21bd6f06",
   "metadata": {},
   "source": [
    "### Obtener nombres de artículos de wiki "
   ]
  },
  {
   "cell_type": "code",
   "execution_count": null,
   "id": "a5dc0e32",
   "metadata": {},
   "outputs": [],
   "source": [
    "wiki_search = [{company : wikipedia.search(company)} for company in companies]"
   ]
  },
  {
   "cell_type": "code",
   "execution_count": null,
   "id": "fe521bcd",
   "metadata": {},
   "outputs": [],
   "source": [
    "for idx, company in enumerate(wiki_search):\n",
    "    for i, j in company.items():\n",
    "        print('{}. {} :\\n{}'.format(idx+1, i ,', '.join(j)))\n",
    "        print('\\n')"
   ]
  },
  {
   "cell_type": "code",
   "execution_count": null,
   "id": "5b687a14",
   "metadata": {},
   "outputs": [],
   "source": [
    "most_probable = [(company, wiki_search[i][company][0]) for i, company in enumerate(companies)]\n",
    "companies = [x[1] for x in most_probable]\n",
    "\n",
    "print(most_probable)"
   ]
  },
  {
   "cell_type": "code",
   "execution_count": null,
   "id": "21f1ae1b",
   "metadata": {},
   "outputs": [],
   "source": [
    "companies[companies.index('Apple')] = 'Apple Inc.'\n",
    "print(companies)"
   ]
  },
  {
   "cell_type": "markdown",
   "id": "ac4bde94",
   "metadata": {},
   "source": [
    "### Recuperando los cuadros de información "
   ]
  },
  {
   "cell_type": "code",
   "execution_count": null,
   "id": "6c8c8e1d",
   "metadata": {},
   "outputs": [],
   "source": [
    "page = wptools.page('Walmart')\n",
    "page.get_parse() "
   ]
  },
  {
   "cell_type": "code",
   "execution_count": null,
   "id": "69132b5d",
   "metadata": {},
   "outputs": [],
   "source": [
    "page.data.keys()"
   ]
  },
  {
   "cell_type": "code",
   "execution_count": null,
   "id": "f634fffc",
   "metadata": {},
   "outputs": [],
   "source": [
    "page.data['infobox']"
   ]
  },
  {
   "cell_type": "code",
   "execution_count": null,
   "id": "0b0479d9",
   "metadata": {},
   "outputs": [],
   "source": [
    "wiki_data = []\n",
    "features = ['founder', 'location_country', 'revenue', 'operating_income', 'net_income', 'assets',\n",
    "        'equity', 'type', 'industry', 'products', 'num_employees']"
   ]
  },
  {
   "cell_type": "markdown",
   "id": "e876c567",
   "metadata": {},
   "source": [
    "#### Ahora obteniendo los datos de todas las empresas (esto puede llevar un tiempo) "
   ]
  },
  {
   "cell_type": "code",
   "execution_count": null,
   "id": "691690e4",
   "metadata": {},
   "outputs": [],
   "source": [
    "for company in companies:    \n",
    "    page = wptools.page(company) # create a page object\n",
    "    try:\n",
    "        page.get_parse() # call the API and parse the data\n",
    "        if page.data['infobox'] != None:\n",
    "            # if infobox is present\n",
    "            infobox = page.data['infobox']\n",
    "            # get data for the interested features/attributes\n",
    "            data = { feature : infobox[feature] if feature in infobox else '' \n",
    "                         for feature in features }\n",
    "        else:\n",
    "            data = { feature : '' for feature in features }\n",
    "        \n",
    "        data['company_name'] = company\n",
    "        wiki_data.append(data)\n",
    "        \n",
    "    except KeyError:\n",
    "        pass"
   ]
  },
  {
   "cell_type": "code",
   "execution_count": null,
   "id": "1cc662b4",
   "metadata": {},
   "outputs": [],
   "source": [
    "wiki_data[0] "
   ]
  },
  {
   "cell_type": "markdown",
   "id": "fa9d8400",
   "metadata": {},
   "source": [
    "#### Finalmente, exportemos los cuadros de información raspados como un solo archivo JSON a una ubicación conveniente de la siguiente manera:"
   ]
  },
  {
   "cell_type": "code",
   "execution_count": null,
   "id": "c74c97a8",
   "metadata": {},
   "outputs": [],
   "source": [
    "with open('infoboxes.json', 'w') as file:\n",
    "    json.dump(wiki_data, file)"
   ]
  }
 ],
 "metadata": {
  "kernelspec": {
   "display_name": "Python 3 (ipykernel)",
   "language": "python",
   "name": "python3"
  },
  "language_info": {
   "codemirror_mode": {
    "name": "ipython",
    "version": 3
   },
   "file_extension": ".py",
   "mimetype": "text/x-python",
   "name": "python",
   "nbconvert_exporter": "python",
   "pygments_lexer": "ipython3",
   "version": "3.9.7"
  }
 },
 "nbformat": 4,
 "nbformat_minor": 5
}
